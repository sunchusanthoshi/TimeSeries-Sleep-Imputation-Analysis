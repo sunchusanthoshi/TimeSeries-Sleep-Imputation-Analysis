{
 "cells": [
  {
   "cell_type": "code",
   "execution_count": 1,
   "id": "8cfaf893",
   "metadata": {},
   "outputs": [],
   "source": [
    "import pandas as pd"
   ]
  },
  {
   "cell_type": "code",
   "execution_count": 2,
   "id": "3d7094d6",
   "metadata": {},
   "outputs": [],
   "source": [
    "temp=pd.read_parquet('merged_data.parquet')"
   ]
  },
  {
   "cell_type": "code",
   "execution_count": 3,
   "id": "bb6d7714",
   "metadata": {},
   "outputs": [
    {
     "data": {
      "text/html": [
       "<div>\n",
       "<style scoped>\n",
       "    .dataframe tbody tr th:only-of-type {\n",
       "        vertical-align: middle;\n",
       "    }\n",
       "\n",
       "    .dataframe tbody tr th {\n",
       "        vertical-align: top;\n",
       "    }\n",
       "\n",
       "    .dataframe thead th {\n",
       "        text-align: right;\n",
       "    }\n",
       "</style>\n",
       "<table border=\"1\" class=\"dataframe\">\n",
       "  <thead>\n",
       "    <tr style=\"text-align: right;\">\n",
       "      <th></th>\n",
       "      <th>series_id</th>\n",
       "      <th>step</th>\n",
       "      <th>timestamp</th>\n",
       "      <th>anglez</th>\n",
       "      <th>enmo</th>\n",
       "      <th>year</th>\n",
       "      <th>month</th>\n",
       "      <th>day</th>\n",
       "      <th>hour</th>\n",
       "      <th>minute</th>\n",
       "      <th>night</th>\n",
       "      <th>event</th>\n",
       "    </tr>\n",
       "  </thead>\n",
       "  <tbody>\n",
       "    <tr>\n",
       "      <th>0</th>\n",
       "      <td>08db4255286f</td>\n",
       "      <td>0</td>\n",
       "      <td>2018-11-05 14:00:00+00:00</td>\n",
       "      <td>-30.845301</td>\n",
       "      <td>0.0447</td>\n",
       "      <td>2018</td>\n",
       "      <td>11</td>\n",
       "      <td>5</td>\n",
       "      <td>14</td>\n",
       "      <td>0</td>\n",
       "      <td>NaN</td>\n",
       "      <td>None</td>\n",
       "    </tr>\n",
       "    <tr>\n",
       "      <th>1</th>\n",
       "      <td>08db4255286f</td>\n",
       "      <td>1</td>\n",
       "      <td>2018-11-05 14:00:05+00:00</td>\n",
       "      <td>-34.181801</td>\n",
       "      <td>0.0443</td>\n",
       "      <td>2018</td>\n",
       "      <td>11</td>\n",
       "      <td>5</td>\n",
       "      <td>14</td>\n",
       "      <td>0</td>\n",
       "      <td>NaN</td>\n",
       "      <td>None</td>\n",
       "    </tr>\n",
       "    <tr>\n",
       "      <th>2</th>\n",
       "      <td>08db4255286f</td>\n",
       "      <td>2</td>\n",
       "      <td>2018-11-05 14:00:10+00:00</td>\n",
       "      <td>-33.877102</td>\n",
       "      <td>0.0483</td>\n",
       "      <td>2018</td>\n",
       "      <td>11</td>\n",
       "      <td>5</td>\n",
       "      <td>14</td>\n",
       "      <td>0</td>\n",
       "      <td>NaN</td>\n",
       "      <td>None</td>\n",
       "    </tr>\n",
       "    <tr>\n",
       "      <th>3</th>\n",
       "      <td>08db4255286f</td>\n",
       "      <td>3</td>\n",
       "      <td>2018-11-05 14:00:15+00:00</td>\n",
       "      <td>-34.282101</td>\n",
       "      <td>0.0680</td>\n",
       "      <td>2018</td>\n",
       "      <td>11</td>\n",
       "      <td>5</td>\n",
       "      <td>14</td>\n",
       "      <td>0</td>\n",
       "      <td>NaN</td>\n",
       "      <td>None</td>\n",
       "    </tr>\n",
       "    <tr>\n",
       "      <th>4</th>\n",
       "      <td>08db4255286f</td>\n",
       "      <td>4</td>\n",
       "      <td>2018-11-05 14:00:20+00:00</td>\n",
       "      <td>-34.385799</td>\n",
       "      <td>0.0768</td>\n",
       "      <td>2018</td>\n",
       "      <td>11</td>\n",
       "      <td>5</td>\n",
       "      <td>14</td>\n",
       "      <td>0</td>\n",
       "      <td>NaN</td>\n",
       "      <td>None</td>\n",
       "    </tr>\n",
       "  </tbody>\n",
       "</table>\n",
       "</div>"
      ],
      "text/plain": [
       "      series_id  step                 timestamp     anglez    enmo  year  \\\n",
       "0  08db4255286f     0 2018-11-05 14:00:00+00:00 -30.845301  0.0447  2018   \n",
       "1  08db4255286f     1 2018-11-05 14:00:05+00:00 -34.181801  0.0443  2018   \n",
       "2  08db4255286f     2 2018-11-05 14:00:10+00:00 -33.877102  0.0483  2018   \n",
       "3  08db4255286f     3 2018-11-05 14:00:15+00:00 -34.282101  0.0680  2018   \n",
       "4  08db4255286f     4 2018-11-05 14:00:20+00:00 -34.385799  0.0768  2018   \n",
       "\n",
       "   month  day  hour  minute  night event  \n",
       "0     11    5    14       0    NaN  None  \n",
       "1     11    5    14       0    NaN  None  \n",
       "2     11    5    14       0    NaN  None  \n",
       "3     11    5    14       0    NaN  None  \n",
       "4     11    5    14       0    NaN  None  "
      ]
     },
     "execution_count": 3,
     "metadata": {},
     "output_type": "execute_result"
    }
   ],
   "source": [
    "temp.head()"
   ]
  },
  {
   "cell_type": "code",
   "execution_count": 32,
   "id": "cf7a0520",
   "metadata": {},
   "outputs": [],
   "source": [
    "temp=temp[['series_id', 'step', 'event']]"
   ]
  },
  {
   "cell_type": "code",
   "execution_count": 33,
   "id": "1a615e92",
   "metadata": {},
   "outputs": [
    {
     "data": {
      "text/html": [
       "<div>\n",
       "<style scoped>\n",
       "    .dataframe tbody tr th:only-of-type {\n",
       "        vertical-align: middle;\n",
       "    }\n",
       "\n",
       "    .dataframe tbody tr th {\n",
       "        vertical-align: top;\n",
       "    }\n",
       "\n",
       "    .dataframe thead th {\n",
       "        text-align: right;\n",
       "    }\n",
       "</style>\n",
       "<table border=\"1\" class=\"dataframe\">\n",
       "  <thead>\n",
       "    <tr style=\"text-align: right;\">\n",
       "      <th></th>\n",
       "      <th>series_id</th>\n",
       "      <th>step</th>\n",
       "      <th>event</th>\n",
       "    </tr>\n",
       "  </thead>\n",
       "  <tbody>\n",
       "    <tr>\n",
       "      <th>0</th>\n",
       "      <td>08db4255286f</td>\n",
       "      <td>0</td>\n",
       "      <td>None</td>\n",
       "    </tr>\n",
       "    <tr>\n",
       "      <th>1</th>\n",
       "      <td>08db4255286f</td>\n",
       "      <td>1</td>\n",
       "      <td>None</td>\n",
       "    </tr>\n",
       "    <tr>\n",
       "      <th>2</th>\n",
       "      <td>08db4255286f</td>\n",
       "      <td>2</td>\n",
       "      <td>None</td>\n",
       "    </tr>\n",
       "    <tr>\n",
       "      <th>3</th>\n",
       "      <td>08db4255286f</td>\n",
       "      <td>3</td>\n",
       "      <td>None</td>\n",
       "    </tr>\n",
       "    <tr>\n",
       "      <th>4</th>\n",
       "      <td>08db4255286f</td>\n",
       "      <td>4</td>\n",
       "      <td>None</td>\n",
       "    </tr>\n",
       "  </tbody>\n",
       "</table>\n",
       "</div>"
      ],
      "text/plain": [
       "      series_id  step event\n",
       "0  08db4255286f     0  None\n",
       "1  08db4255286f     1  None\n",
       "2  08db4255286f     2  None\n",
       "3  08db4255286f     3  None\n",
       "4  08db4255286f     4  None"
      ]
     },
     "execution_count": 33,
     "metadata": {},
     "output_type": "execute_result"
    }
   ],
   "source": [
    "temp.head()"
   ]
  },
  {
   "cell_type": "code",
   "execution_count": 6,
   "id": "55faf6e2",
   "metadata": {},
   "outputs": [],
   "source": [
    "df_clean_csv=pd.read_csv('clean_train_csv.csv')"
   ]
  },
  {
   "cell_type": "code",
   "execution_count": 48,
   "id": "90e3a8d1",
   "metadata": {},
   "outputs": [],
   "source": [
    "csv_steps=df_clean_csv[['step']]"
   ]
  },
  {
   "cell_type": "code",
   "execution_count": 49,
   "id": "ba28ffb5",
   "metadata": {},
   "outputs": [
    {
     "data": {
      "text/html": [
       "<div>\n",
       "<style scoped>\n",
       "    .dataframe tbody tr th:only-of-type {\n",
       "        vertical-align: middle;\n",
       "    }\n",
       "\n",
       "    .dataframe tbody tr th {\n",
       "        vertical-align: top;\n",
       "    }\n",
       "\n",
       "    .dataframe thead th {\n",
       "        text-align: right;\n",
       "    }\n",
       "</style>\n",
       "<table border=\"1\" class=\"dataframe\">\n",
       "  <thead>\n",
       "    <tr style=\"text-align: right;\">\n",
       "      <th></th>\n",
       "      <th>step</th>\n",
       "    </tr>\n",
       "  </thead>\n",
       "  <tbody>\n",
       "    <tr>\n",
       "      <th>0</th>\n",
       "      <td>11988.0</td>\n",
       "    </tr>\n",
       "    <tr>\n",
       "      <th>1</th>\n",
       "      <td>14388.0</td>\n",
       "    </tr>\n",
       "    <tr>\n",
       "      <th>2</th>\n",
       "      <td>28680.0</td>\n",
       "    </tr>\n",
       "    <tr>\n",
       "      <th>3</th>\n",
       "      <td>31320.0</td>\n",
       "    </tr>\n",
       "    <tr>\n",
       "      <th>4</th>\n",
       "      <td>44184.0</td>\n",
       "    </tr>\n",
       "    <tr>\n",
       "      <th>...</th>\n",
       "      <td>...</td>\n",
       "    </tr>\n",
       "    <tr>\n",
       "      <th>1509</th>\n",
       "      <td>356172.0</td>\n",
       "    </tr>\n",
       "    <tr>\n",
       "      <th>1510</th>\n",
       "      <td>366756.0</td>\n",
       "    </tr>\n",
       "    <tr>\n",
       "      <th>1511</th>\n",
       "      <td>373176.0</td>\n",
       "    </tr>\n",
       "    <tr>\n",
       "      <th>1512</th>\n",
       "      <td>383616.0</td>\n",
       "    </tr>\n",
       "    <tr>\n",
       "      <th>1513</th>\n",
       "      <td>390096.0</td>\n",
       "    </tr>\n",
       "  </tbody>\n",
       "</table>\n",
       "<p>1514 rows × 1 columns</p>\n",
       "</div>"
      ],
      "text/plain": [
       "          step\n",
       "0      11988.0\n",
       "1      14388.0\n",
       "2      28680.0\n",
       "3      31320.0\n",
       "4      44184.0\n",
       "...        ...\n",
       "1509  356172.0\n",
       "1510  366756.0\n",
       "1511  373176.0\n",
       "1512  383616.0\n",
       "1513  390096.0\n",
       "\n",
       "[1514 rows x 1 columns]"
      ]
     },
     "execution_count": 49,
     "metadata": {},
     "output_type": "execute_result"
    }
   ],
   "source": [
    "csv_steps"
   ]
  },
  {
   "cell_type": "code",
   "execution_count": 34,
   "id": "779a3206",
   "metadata": {},
   "outputs": [],
   "source": [
    "import numpy as np\n",
    "import pandas as pd\n",
    "temp1=temp\n",
    "# temp1['sleeping']= 1000\n",
    "# temp1[\"sleeping\"] = np.where(temp1[\"event\"] == \"onset\", 1, np.where(temp1[\"event\"] == \"wakeup\", 0, 2))\n",
    "\n",
    "\n",
    "# print(temp1.index[1])\n",
    "\n",
    "# step_values=1513\n",
    "# for i in range (0,step_values):\n",
    "# #     print(i)\n",
    "# #     print (f\"i is {i}\")\n",
    "#     start_index= int(csv_steps.iloc[i])\n",
    "#     stop_index= int(csv_steps.iloc[i+1])\n",
    "#     print(f\"start_index: {start_index}\")\n",
    "#     print(f\"stop_index: {stop_index}\")\n",
    "    \n",
    "#     if start_index==11988:\n",
    "#         for j in range(0,start_index):\n",
    "#             temp1.loc['sleeping']==0\n",
    "        \n",
    "#     if i%2==0:\n",
    "            \n",
    "#         for j in range(start_index,stop_index):\n",
    "#             temp1.loc['sleeping']=1\n",
    "#     elif i%2!=0:\n",
    "#         for j in range(start_index,stop_index):\n",
    "#             temp1.loc['sleeping']=0\n",
    "            \n",
    "#     if stop_index==390096:\n",
    "#         for j in range(390096,len(temp1)-1):\n",
    "#             temp1.loc['sleeping']=1\n",
    "\n",
    "# temp1.info()"
   ]
  },
  {
   "cell_type": "code",
   "execution_count": 35,
   "id": "0d7278d8",
   "metadata": {},
   "outputs": [
    {
     "data": {
      "text/html": [
       "<div>\n",
       "<style scoped>\n",
       "    .dataframe tbody tr th:only-of-type {\n",
       "        vertical-align: middle;\n",
       "    }\n",
       "\n",
       "    .dataframe tbody tr th {\n",
       "        vertical-align: top;\n",
       "    }\n",
       "\n",
       "    .dataframe thead th {\n",
       "        text-align: right;\n",
       "    }\n",
       "</style>\n",
       "<table border=\"1\" class=\"dataframe\">\n",
       "  <thead>\n",
       "    <tr style=\"text-align: right;\">\n",
       "      <th></th>\n",
       "      <th>series_id</th>\n",
       "      <th>step</th>\n",
       "      <th>event</th>\n",
       "    </tr>\n",
       "  </thead>\n",
       "  <tbody>\n",
       "    <tr>\n",
       "      <th>0</th>\n",
       "      <td>08db4255286f</td>\n",
       "      <td>0</td>\n",
       "      <td>None</td>\n",
       "    </tr>\n",
       "    <tr>\n",
       "      <th>1</th>\n",
       "      <td>08db4255286f</td>\n",
       "      <td>1</td>\n",
       "      <td>None</td>\n",
       "    </tr>\n",
       "    <tr>\n",
       "      <th>2</th>\n",
       "      <td>08db4255286f</td>\n",
       "      <td>2</td>\n",
       "      <td>None</td>\n",
       "    </tr>\n",
       "    <tr>\n",
       "      <th>3</th>\n",
       "      <td>08db4255286f</td>\n",
       "      <td>3</td>\n",
       "      <td>None</td>\n",
       "    </tr>\n",
       "    <tr>\n",
       "      <th>4</th>\n",
       "      <td>08db4255286f</td>\n",
       "      <td>4</td>\n",
       "      <td>None</td>\n",
       "    </tr>\n",
       "  </tbody>\n",
       "</table>\n",
       "</div>"
      ],
      "text/plain": [
       "      series_id  step event\n",
       "0  08db4255286f     0  None\n",
       "1  08db4255286f     1  None\n",
       "2  08db4255286f     2  None\n",
       "3  08db4255286f     3  None\n",
       "4  08db4255286f     4  None"
      ]
     },
     "execution_count": 35,
     "metadata": {},
     "output_type": "execute_result"
    }
   ],
   "source": [
    "temp1.head()"
   ]
  },
  {
   "cell_type": "code",
   "execution_count": null,
   "id": "327b67bb",
   "metadata": {},
   "outputs": [],
   "source": []
  },
  {
   "cell_type": "code",
   "execution_count": null,
   "id": "24707a28",
   "metadata": {},
   "outputs": [],
   "source": [
    "sleeping_list=[]\n",
    "\n",
    "for i in range(0,11988):\n",
    "    sleeping_list.append(0)\n",
    "    \n",
    "step_values=1513    \n",
    "for j in range(0,step_values):\n",
    "    start_index= int(csv_steps.iloc[j])\n",
    "    stop_index= int(csv_steps.iloc[j+1])\n",
    "    print(f\"start_index: {start_index}\")\n",
    "    print(f\"stop_index: {stop_index}\")\n",
    "    \n",
    "    for i in range(start_index,stop_index):\n",
    "        if j%2==0:\n",
    "            sleeping_list.append(1)\n",
    "        else:\n",
    "            sleeping_list.append(0)\n",
    "    "
   ]
  },
  {
   "cell_type": "code",
   "execution_count": 62,
   "id": "1b3211ab",
   "metadata": {},
   "outputs": [
    {
     "data": {
      "text/plain": [
       "12702516"
      ]
     },
     "execution_count": 62,
     "metadata": {},
     "output_type": "execute_result"
    }
   ],
   "source": [
    "len(sleeping_list)"
   ]
  },
  {
   "cell_type": "code",
   "execution_count": 63,
   "id": "1ab83864",
   "metadata": {},
   "outputs": [
    {
     "data": {
      "text/plain": [
       "13165560"
      ]
     },
     "execution_count": 63,
     "metadata": {},
     "output_type": "execute_result"
    }
   ],
   "source": [
    "temp.shape[0]"
   ]
  },
  {
   "cell_type": "code",
   "execution_count": 64,
   "id": "93ac45d4",
   "metadata": {},
   "outputs": [
    {
     "name": "stdout",
     "output_type": "stream",
     "text": [
      "463044\n"
     ]
    }
   ],
   "source": [
    "print(temp.shape[0]-len(sleeping_list))"
   ]
  },
  {
   "cell_type": "code",
   "execution_count": 65,
   "id": "801156e3",
   "metadata": {},
   "outputs": [
    {
     "data": {
      "text/plain": [
       "1"
      ]
     },
     "execution_count": 65,
     "metadata": {},
     "output_type": "execute_result"
    }
   ],
   "source": [
    "sleeping_list[len(sleeping_list)-1]"
   ]
  },
  {
   "cell_type": "code",
   "execution_count": 66,
   "id": "c27326db",
   "metadata": {},
   "outputs": [],
   "source": [
    "for k in range(0,463044):\n",
    "    sleeping_list.append(1)"
   ]
  },
  {
   "cell_type": "code",
   "execution_count": 67,
   "id": "6e55d277",
   "metadata": {},
   "outputs": [
    {
     "data": {
      "text/plain": [
       "13165560"
      ]
     },
     "execution_count": 67,
     "metadata": {},
     "output_type": "execute_result"
    }
   ],
   "source": [
    "len(sleeping_list)"
   ]
  },
  {
   "cell_type": "code",
   "execution_count": 68,
   "id": "f5ff2e0c",
   "metadata": {},
   "outputs": [],
   "source": [
    "import pandas as pd\n",
    "sleeping_data = pd.DataFrame(sleeping_list, columns=['sleeping'])"
   ]
  },
  {
   "cell_type": "code",
   "execution_count": 70,
   "id": "7579d80d",
   "metadata": {},
   "outputs": [],
   "source": [
    "sleeping_data.to_parquet('sleeping_data.parquet',index=False)"
   ]
  },
  {
   "cell_type": "code",
   "execution_count": 72,
   "id": "b76ab155",
   "metadata": {},
   "outputs": [],
   "source": [
    "sleeping_data.to_csv('sleeping_data.csv', index=False)"
   ]
  },
  {
   "cell_type": "markdown",
   "id": "1e9ad040",
   "metadata": {},
   "source": [
    "## Merging"
   ]
  },
  {
   "cell_type": "code",
   "execution_count": 93,
   "id": "7d6a89d3",
   "metadata": {},
   "outputs": [],
   "source": [
    "temp_merge=pd.read_parquet('merged_data.parquet')"
   ]
  },
  {
   "cell_type": "code",
   "execution_count": 94,
   "id": "521c5627",
   "metadata": {},
   "outputs": [
    {
     "data": {
      "text/plain": [
       "13165560"
      ]
     },
     "execution_count": 94,
     "metadata": {},
     "output_type": "execute_result"
    }
   ],
   "source": [
    "temp_merge.shape[0]"
   ]
  },
  {
   "cell_type": "code",
   "execution_count": 95,
   "id": "9714d5e2",
   "metadata": {},
   "outputs": [],
   "source": [
    "temp_merge['sleeping']=sleeping_data"
   ]
  },
  {
   "cell_type": "code",
   "execution_count": 96,
   "id": "cc601f3a",
   "metadata": {},
   "outputs": [
    {
     "data": {
      "text/html": [
       "<div>\n",
       "<style scoped>\n",
       "    .dataframe tbody tr th:only-of-type {\n",
       "        vertical-align: middle;\n",
       "    }\n",
       "\n",
       "    .dataframe tbody tr th {\n",
       "        vertical-align: top;\n",
       "    }\n",
       "\n",
       "    .dataframe thead th {\n",
       "        text-align: right;\n",
       "    }\n",
       "</style>\n",
       "<table border=\"1\" class=\"dataframe\">\n",
       "  <thead>\n",
       "    <tr style=\"text-align: right;\">\n",
       "      <th></th>\n",
       "      <th>series_id</th>\n",
       "      <th>step</th>\n",
       "      <th>timestamp</th>\n",
       "      <th>anglez</th>\n",
       "      <th>enmo</th>\n",
       "      <th>year</th>\n",
       "      <th>month</th>\n",
       "      <th>day</th>\n",
       "      <th>hour</th>\n",
       "      <th>minute</th>\n",
       "      <th>night</th>\n",
       "      <th>event</th>\n",
       "      <th>sleeping</th>\n",
       "    </tr>\n",
       "  </thead>\n",
       "  <tbody>\n",
       "    <tr>\n",
       "      <th>0</th>\n",
       "      <td>08db4255286f</td>\n",
       "      <td>0</td>\n",
       "      <td>2018-11-05 14:00:00+00:00</td>\n",
       "      <td>-30.845301</td>\n",
       "      <td>0.0447</td>\n",
       "      <td>2018</td>\n",
       "      <td>11</td>\n",
       "      <td>5</td>\n",
       "      <td>14</td>\n",
       "      <td>0</td>\n",
       "      <td>NaN</td>\n",
       "      <td>None</td>\n",
       "      <td>0</td>\n",
       "    </tr>\n",
       "    <tr>\n",
       "      <th>1</th>\n",
       "      <td>08db4255286f</td>\n",
       "      <td>1</td>\n",
       "      <td>2018-11-05 14:00:05+00:00</td>\n",
       "      <td>-34.181801</td>\n",
       "      <td>0.0443</td>\n",
       "      <td>2018</td>\n",
       "      <td>11</td>\n",
       "      <td>5</td>\n",
       "      <td>14</td>\n",
       "      <td>0</td>\n",
       "      <td>NaN</td>\n",
       "      <td>None</td>\n",
       "      <td>0</td>\n",
       "    </tr>\n",
       "    <tr>\n",
       "      <th>2</th>\n",
       "      <td>08db4255286f</td>\n",
       "      <td>2</td>\n",
       "      <td>2018-11-05 14:00:10+00:00</td>\n",
       "      <td>-33.877102</td>\n",
       "      <td>0.0483</td>\n",
       "      <td>2018</td>\n",
       "      <td>11</td>\n",
       "      <td>5</td>\n",
       "      <td>14</td>\n",
       "      <td>0</td>\n",
       "      <td>NaN</td>\n",
       "      <td>None</td>\n",
       "      <td>0</td>\n",
       "    </tr>\n",
       "    <tr>\n",
       "      <th>3</th>\n",
       "      <td>08db4255286f</td>\n",
       "      <td>3</td>\n",
       "      <td>2018-11-05 14:00:15+00:00</td>\n",
       "      <td>-34.282101</td>\n",
       "      <td>0.0680</td>\n",
       "      <td>2018</td>\n",
       "      <td>11</td>\n",
       "      <td>5</td>\n",
       "      <td>14</td>\n",
       "      <td>0</td>\n",
       "      <td>NaN</td>\n",
       "      <td>None</td>\n",
       "      <td>0</td>\n",
       "    </tr>\n",
       "    <tr>\n",
       "      <th>4</th>\n",
       "      <td>08db4255286f</td>\n",
       "      <td>4</td>\n",
       "      <td>2018-11-05 14:00:20+00:00</td>\n",
       "      <td>-34.385799</td>\n",
       "      <td>0.0768</td>\n",
       "      <td>2018</td>\n",
       "      <td>11</td>\n",
       "      <td>5</td>\n",
       "      <td>14</td>\n",
       "      <td>0</td>\n",
       "      <td>NaN</td>\n",
       "      <td>None</td>\n",
       "      <td>0</td>\n",
       "    </tr>\n",
       "    <tr>\n",
       "      <th>...</th>\n",
       "      <td>...</td>\n",
       "      <td>...</td>\n",
       "      <td>...</td>\n",
       "      <td>...</td>\n",
       "      <td>...</td>\n",
       "      <td>...</td>\n",
       "      <td>...</td>\n",
       "      <td>...</td>\n",
       "      <td>...</td>\n",
       "      <td>...</td>\n",
       "      <td>...</td>\n",
       "      <td>...</td>\n",
       "      <td>...</td>\n",
       "    </tr>\n",
       "    <tr>\n",
       "      <th>13165555</th>\n",
       "      <td>d5e47b94477e</td>\n",
       "      <td>395815</td>\n",
       "      <td>2017-12-02 20:44:35+00:00</td>\n",
       "      <td>-10.064100</td>\n",
       "      <td>0.1552</td>\n",
       "      <td>2017</td>\n",
       "      <td>12</td>\n",
       "      <td>2</td>\n",
       "      <td>20</td>\n",
       "      <td>44</td>\n",
       "      <td>NaN</td>\n",
       "      <td>None</td>\n",
       "      <td>1</td>\n",
       "    </tr>\n",
       "    <tr>\n",
       "      <th>13165556</th>\n",
       "      <td>d5e47b94477e</td>\n",
       "      <td>395816</td>\n",
       "      <td>2017-12-02 20:44:40+00:00</td>\n",
       "      <td>-10.006700</td>\n",
       "      <td>0.1139</td>\n",
       "      <td>2017</td>\n",
       "      <td>12</td>\n",
       "      <td>2</td>\n",
       "      <td>20</td>\n",
       "      <td>44</td>\n",
       "      <td>NaN</td>\n",
       "      <td>None</td>\n",
       "      <td>1</td>\n",
       "    </tr>\n",
       "    <tr>\n",
       "      <th>13165557</th>\n",
       "      <td>d5e47b94477e</td>\n",
       "      <td>395817</td>\n",
       "      <td>2017-12-02 20:44:45+00:00</td>\n",
       "      <td>-3.328600</td>\n",
       "      <td>0.1245</td>\n",
       "      <td>2017</td>\n",
       "      <td>12</td>\n",
       "      <td>2</td>\n",
       "      <td>20</td>\n",
       "      <td>44</td>\n",
       "      <td>NaN</td>\n",
       "      <td>None</td>\n",
       "      <td>1</td>\n",
       "    </tr>\n",
       "    <tr>\n",
       "      <th>13165558</th>\n",
       "      <td>d5e47b94477e</td>\n",
       "      <td>395818</td>\n",
       "      <td>2017-12-02 20:44:50+00:00</td>\n",
       "      <td>-5.903100</td>\n",
       "      <td>0.1363</td>\n",
       "      <td>2017</td>\n",
       "      <td>12</td>\n",
       "      <td>2</td>\n",
       "      <td>20</td>\n",
       "      <td>44</td>\n",
       "      <td>NaN</td>\n",
       "      <td>None</td>\n",
       "      <td>1</td>\n",
       "    </tr>\n",
       "    <tr>\n",
       "      <th>13165559</th>\n",
       "      <td>d5e47b94477e</td>\n",
       "      <td>395819</td>\n",
       "      <td>2017-12-02 20:44:55+00:00</td>\n",
       "      <td>-11.691100</td>\n",
       "      <td>0.0995</td>\n",
       "      <td>2017</td>\n",
       "      <td>12</td>\n",
       "      <td>2</td>\n",
       "      <td>20</td>\n",
       "      <td>44</td>\n",
       "      <td>NaN</td>\n",
       "      <td>None</td>\n",
       "      <td>1</td>\n",
       "    </tr>\n",
       "  </tbody>\n",
       "</table>\n",
       "<p>13165560 rows × 13 columns</p>\n",
       "</div>"
      ],
      "text/plain": [
       "             series_id    step                 timestamp     anglez    enmo  \\\n",
       "0         08db4255286f       0 2018-11-05 14:00:00+00:00 -30.845301  0.0447   \n",
       "1         08db4255286f       1 2018-11-05 14:00:05+00:00 -34.181801  0.0443   \n",
       "2         08db4255286f       2 2018-11-05 14:00:10+00:00 -33.877102  0.0483   \n",
       "3         08db4255286f       3 2018-11-05 14:00:15+00:00 -34.282101  0.0680   \n",
       "4         08db4255286f       4 2018-11-05 14:00:20+00:00 -34.385799  0.0768   \n",
       "...                ...     ...                       ...        ...     ...   \n",
       "13165555  d5e47b94477e  395815 2017-12-02 20:44:35+00:00 -10.064100  0.1552   \n",
       "13165556  d5e47b94477e  395816 2017-12-02 20:44:40+00:00 -10.006700  0.1139   \n",
       "13165557  d5e47b94477e  395817 2017-12-02 20:44:45+00:00  -3.328600  0.1245   \n",
       "13165558  d5e47b94477e  395818 2017-12-02 20:44:50+00:00  -5.903100  0.1363   \n",
       "13165559  d5e47b94477e  395819 2017-12-02 20:44:55+00:00 -11.691100  0.0995   \n",
       "\n",
       "          year  month  day  hour  minute  night event  sleeping  \n",
       "0         2018     11    5    14       0    NaN  None         0  \n",
       "1         2018     11    5    14       0    NaN  None         0  \n",
       "2         2018     11    5    14       0    NaN  None         0  \n",
       "3         2018     11    5    14       0    NaN  None         0  \n",
       "4         2018     11    5    14       0    NaN  None         0  \n",
       "...        ...    ...  ...   ...     ...    ...   ...       ...  \n",
       "13165555  2017     12    2    20      44    NaN  None         1  \n",
       "13165556  2017     12    2    20      44    NaN  None         1  \n",
       "13165557  2017     12    2    20      44    NaN  None         1  \n",
       "13165558  2017     12    2    20      44    NaN  None         1  \n",
       "13165559  2017     12    2    20      44    NaN  None         1  \n",
       "\n",
       "[13165560 rows x 13 columns]"
      ]
     },
     "execution_count": 96,
     "metadata": {},
     "output_type": "execute_result"
    }
   ],
   "source": [
    "temp_merge"
   ]
  },
  {
   "cell_type": "code",
   "execution_count": 97,
   "id": "e630a2d6",
   "metadata": {},
   "outputs": [
    {
     "name": "stdout",
     "output_type": "stream",
     "text": [
      "<class 'pandas.core.frame.DataFrame'>\n",
      "RangeIndex: 13165560 entries, 0 to 13165559\n",
      "Data columns (total 13 columns):\n",
      " #   Column     Dtype              \n",
      "---  ------     -----              \n",
      " 0   series_id  object             \n",
      " 1   step       uint32             \n",
      " 2   timestamp  datetime64[ns, UTC]\n",
      " 3   anglez     float32            \n",
      " 4   enmo       float32            \n",
      " 5   year       int64              \n",
      " 6   month      int64              \n",
      " 7   day        int64              \n",
      " 8   hour       int64              \n",
      " 9   minute     int64              \n",
      " 10  night      float64            \n",
      " 11  event      object             \n",
      " 12  sleeping   int64              \n",
      "dtypes: datetime64[ns, UTC](1), float32(2), float64(1), int64(6), object(2), uint32(1)\n",
      "memory usage: 1.1+ GB\n"
     ]
    }
   ],
   "source": [
    "temp_merge.info()"
   ]
  },
  {
   "cell_type": "code",
   "execution_count": 98,
   "id": "1bcb1580",
   "metadata": {},
   "outputs": [],
   "source": [
    "temp_merge.to_parquet('dataset.parquet')"
   ]
  },
  {
   "cell_type": "markdown",
   "id": "c9e3f2f7",
   "metadata": {},
   "source": [
    "## Checking column info"
   ]
  },
  {
   "cell_type": "code",
   "execution_count": 100,
   "id": "3ad5704b",
   "metadata": {},
   "outputs": [
    {
     "name": "stdout",
     "output_type": "stream",
     "text": [
      "<class 'pandas.core.series.Series'>\n",
      "RangeIndex: 13165560 entries, 0 to 13165559\n",
      "Series name: night\n",
      "Non-Null Count  Dtype  \n",
      "--------------  -----  \n",
      "1514 non-null   float64\n",
      "dtypes: float64(1)\n",
      "memory usage: 100.4 MB\n"
     ]
    }
   ],
   "source": [
    "temp_merge['night'].info()"
   ]
  },
  {
   "cell_type": "code",
   "execution_count": 101,
   "id": "dabf5535",
   "metadata": {},
   "outputs": [
    {
     "name": "stdout",
     "output_type": "stream",
     "text": [
      "<class 'pandas.core.series.Series'>\n",
      "RangeIndex: 13165560 entries, 0 to 13165559\n",
      "Series name: event\n",
      "Non-Null Count  Dtype \n",
      "--------------  ----- \n",
      "1514 non-null   object\n",
      "dtypes: object(1)\n",
      "memory usage: 100.4+ MB\n"
     ]
    }
   ],
   "source": [
    "temp_merge['event'].info()"
   ]
  },
  {
   "cell_type": "code",
   "execution_count": 102,
   "id": "1a362340",
   "metadata": {},
   "outputs": [
    {
     "name": "stdout",
     "output_type": "stream",
     "text": [
      "<class 'pandas.core.series.Series'>\n",
      "RangeIndex: 13165560 entries, 0 to 13165559\n",
      "Series name: sleeping\n",
      "Non-Null Count     Dtype\n",
      "--------------     -----\n",
      "13165560 non-null  int64\n",
      "dtypes: int64(1)\n",
      "memory usage: 100.4 MB\n"
     ]
    }
   ],
   "source": [
    "temp_merge['sleeping'].info()"
   ]
  },
  {
   "cell_type": "code",
   "execution_count": null,
   "id": "90017dfb",
   "metadata": {},
   "outputs": [],
   "source": []
  }
 ],
 "metadata": {
  "kernelspec": {
   "display_name": "Python 3 (ipykernel)",
   "language": "python",
   "name": "python3"
  },
  "language_info": {
   "codemirror_mode": {
    "name": "ipython",
    "version": 3
   },
   "file_extension": ".py",
   "mimetype": "text/x-python",
   "name": "python",
   "nbconvert_exporter": "python",
   "pygments_lexer": "ipython3",
   "version": "3.11.5"
  }
 },
 "nbformat": 4,
 "nbformat_minor": 5
}
